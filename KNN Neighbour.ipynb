{
 "cells": [
  {
   "cell_type": "code",
   "execution_count": 1,
   "id": "9ff1cdd5",
   "metadata": {},
   "outputs": [],
   "source": [
    "import pandas as pd\n",
    "import numpy as np\n",
    "import matplotlib.pyplot as plt\n",
    "import seaborn as sns\n",
    "%matplotlib inline"
   ]
  },
  {
   "cell_type": "code",
   "execution_count": 4,
   "id": "cd41e8f9",
   "metadata": {},
   "outputs": [],
   "source": [
    "from sklearn.datasets import make_classification\n",
    "x,y=make_classification(n_samples=1000,n_features=20,\n",
    "    n_informative=2,\n",
    "    n_redundant=2,\n",
    "    n_repeated=0,\n",
    "    n_classes=2,\n",
    "    random_state=999)"
   ]
  },
  {
   "cell_type": "code",
   "execution_count": 62,
   "id": "1df7b916",
   "metadata": {},
   "outputs": [],
   "source": [
    "from sklearn.model_selection import train_test_split\n",
    "x_train,x_test,y_train,y_test=train_test_split(x,y,test_size=0.30,random_state=999)"
   ]
  },
  {
   "cell_type": "code",
   "execution_count": 63,
   "id": "a896abf5",
   "metadata": {},
   "outputs": [
    {
     "data": {
      "text/plain": [
       "((700, 20), (300, 20), (700,), (300,))"
      ]
     },
     "execution_count": 63,
     "metadata": {},
     "output_type": "execute_result"
    }
   ],
   "source": [
    "x_train.shape,x_test.shape,y_train.shape,y_test.shape"
   ]
  },
  {
   "cell_type": "code",
   "execution_count": 64,
   "id": "a4755a8e",
   "metadata": {},
   "outputs": [],
   "source": [
    "from sklearn.neighbors import KNeighborsClassifier\n",
    "classifier=KNeighborsClassifier(n_neighbors=6,\n",
    "    algorithm='auto')\n",
    "classifier.fit(x_train,y_train)\n",
    "y_predict=classifier.predict(x_test)\n",
    "\n"
   ]
  },
  {
   "cell_type": "code",
   "execution_count": 65,
   "id": "ed4918e1",
   "metadata": {},
   "outputs": [
    {
     "name": "stdout",
     "output_type": "stream",
     "text": [
      "0.8\n",
      "[[125  43]\n",
      " [ 17 115]]\n",
      "              precision    recall  f1-score   support\n",
      "\n",
      "           0       0.88      0.74      0.81       168\n",
      "           1       0.73      0.87      0.79       132\n",
      "\n",
      "    accuracy                           0.80       300\n",
      "   macro avg       0.80      0.81      0.80       300\n",
      "weighted avg       0.81      0.80      0.80       300\n",
      "\n"
     ]
    }
   ],
   "source": [
    "from sklearn.metrics import accuracy_score,confusion_matrix,classification_report\n",
    "print(accuracy_score(y_predict,y_test))\n",
    "print(confusion_matrix(y_predict,y_test))\n",
    "print(classification_report(y_predict,y_test))"
   ]
  },
  {
   "cell_type": "code",
   "execution_count": 78,
   "id": "3cb8dd12",
   "metadata": {},
   "outputs": [],
   "source": [
    "from sklearn.model_selection import GridSearchCV\n",
    "grid=GridSearchCV(KNeighborsClassifier(),param_grid,scoring='accuracy',\n",
    "    n_jobs=-1,\n",
    "    refit=True,\n",
    "    cv=3,verbose=2)"
   ]
  },
  {
   "cell_type": "code",
   "execution_count": 79,
   "id": "a8d8f49a",
   "metadata": {},
   "outputs": [],
   "source": [
    "param_grid={ 'n_neighbors':[i for i in range(12)],\n",
    "            'algorithm' : ['auto', 'ball_tree', 'kd_tree', 'brute'],\n",
    "            'leaf_size' :  [20,30,40,50],\n",
    "            'weights' : ['uniform', 'distance'],\n",
    "            'p':[1,2]           \n",
    "              \n",
    "}"
   ]
  },
  {
   "cell_type": "code",
   "execution_count": 80,
   "id": "c6f65110",
   "metadata": {},
   "outputs": [
    {
     "name": "stdout",
     "output_type": "stream",
     "text": [
      "Fitting 3 folds for each of 768 candidates, totalling 2304 fits\n"
     ]
    }
   ],
   "source": [
    "grid.fit(x_train,y_train)\n",
    "y_predict=grid.predict(x_test)"
   ]
  },
  {
   "cell_type": "code",
   "execution_count": 81,
   "id": "e77c28be",
   "metadata": {},
   "outputs": [
    {
     "name": "stdout",
     "output_type": "stream",
     "text": [
      "0.8433333333333334\n",
      "[[123  28]\n",
      " [ 19 130]]\n",
      "              precision    recall  f1-score   support\n",
      "\n",
      "           0       0.87      0.81      0.84       151\n",
      "           1       0.82      0.87      0.85       149\n",
      "\n",
      "    accuracy                           0.84       300\n",
      "   macro avg       0.84      0.84      0.84       300\n",
      "weighted avg       0.84      0.84      0.84       300\n",
      "\n"
     ]
    }
   ],
   "source": [
    "from sklearn.metrics import accuracy_score,confusion_matrix,classification_report\n",
    "print(accuracy_score(y_predict,y_test))\n",
    "print(confusion_matrix(y_predict,y_test))\n",
    "print(classification_report(y_predict,y_test))"
   ]
  },
  {
   "cell_type": "code",
   "execution_count": 82,
   "id": "85be1e93",
   "metadata": {},
   "outputs": [
    {
     "data": {
      "text/plain": [
       "0.8600014672976046"
      ]
     },
     "execution_count": 82,
     "metadata": {},
     "output_type": "execute_result"
    }
   ],
   "source": [
    "grid.best_score_"
   ]
  },
  {
   "cell_type": "code",
   "execution_count": 83,
   "id": "83bf39fa",
   "metadata": {},
   "outputs": [
    {
     "data": {
      "text/plain": [
       "{'algorithm': 'auto',\n",
       " 'leaf_size': 20,\n",
       " 'n_neighbors': 10,\n",
       " 'p': 1,\n",
       " 'weights': 'distance'}"
      ]
     },
     "execution_count": 83,
     "metadata": {},
     "output_type": "execute_result"
    }
   ],
   "source": [
    "grid.best_params_"
   ]
  },
  {
   "cell_type": "code",
   "execution_count": null,
   "id": "9766b841",
   "metadata": {},
   "outputs": [],
   "source": []
  },
  {
   "cell_type": "code",
   "execution_count": 60,
   "id": "c0113478",
   "metadata": {},
   "outputs": [],
   "source": [
    "import warnings\n",
    "warnings.filterwarnings('ignore')"
   ]
  },
  {
   "cell_type": "code",
   "execution_count": 61,
   "id": "ffb823cf",
   "metadata": {},
   "outputs": [],
   "source": [
    "import warnings\n",
    "\n",
    "# Example of filtering warnings\n",
    "warnings.filterwarnings(action='ignore', category=UserWarning)  # Ignoring UserWarning\n"
   ]
  },
  {
   "cell_type": "code",
   "execution_count": null,
   "id": "d6155df1",
   "metadata": {},
   "outputs": [],
   "source": []
  }
 ],
 "metadata": {
  "kernelspec": {
   "display_name": "Python 3 (ipykernel)",
   "language": "python",
   "name": "python3"
  },
  "language_info": {
   "codemirror_mode": {
    "name": "ipython",
    "version": 3
   },
   "file_extension": ".py",
   "mimetype": "text/x-python",
   "name": "python",
   "nbconvert_exporter": "python",
   "pygments_lexer": "ipython3",
   "version": "3.11.5"
  }
 },
 "nbformat": 4,
 "nbformat_minor": 5
}
